{
  "nbformat": 4,
  "nbformat_minor": 0,
  "metadata": {
    "colab": {
      "provenance": []
    },
    "kernelspec": {
      "name": "python3",
      "display_name": "Python 3"
    },
    "language_info": {
      "name": "python"
    }
  },
  "cells": [
    {
      "cell_type": "code",
      "execution_count": 5,
      "metadata": {
        "id": "zSq2FuNvQFi_",
        "colab": {
          "base_uri": "https://localhost:8080/"
        },
        "outputId": "73072933-d30d-4713-800e-216cc1f4a662"
      },
      "outputs": [
        {
          "output_type": "stream",
          "name": "stdout",
          "text": [
            "     ID             Name Gender     City  Age\n",
            "0  A001       John Alter      M    Paris   25\n",
            "1  A002  Alice Luxumburg      F   London   27\n",
            "2  A003    Tom Sabestine      M   Berlin   29\n",
            "3  A004       Nina Adgra      F  Newyork   31\n",
            "4  A005        Amy Johny      F   Madrid   30\n",
            "      ID     Project       Cost    Status\n",
            "0   A001   Project 1  1002000.0  Finished\n",
            "1   A002   Project 2  2000000.0   Ongoing\n",
            "2   A003   Project 3  4500000.0  Finished\n",
            "3   A004   Project 4  5500000.0   Ongoing\n",
            "4   A005   Project 5        NaN  Finished\n",
            "5   A002   Project 6   680000.0    Failed\n",
            "6   A005   Project 7   400000.0  Finished\n",
            "7   A003   Project 8   350000.0    Failed\n",
            "8   A001   Project 9        NaN   Ongoing\n",
            "9   A003  Project 10   300000.0  Finished\n",
            "10  A001  Project 11  2000000.0    Failed\n",
            "11  A004  Project 12  1000000.0   Ongoing\n",
            "12  A004  Project 13  3000000.0  Finished\n",
            "     ID  Designation Level\n",
            "0  A001                  2\n",
            "1  A002                  2\n",
            "2  A003                  3\n",
            "3  A004                  2\n",
            "4  A005                  3\n"
          ]
        }
      ],
      "source": [
        "#Import Necessary Libraries\n",
        "import numpy as np\n",
        "import pandas as pd\n",
        "#Task 1: Create three dataframes and save them as CSV files\n",
        "# Create the Employee DataFrame\n",
        "emp_df=pd.DataFrame({'ID':['A001','A002','A003','A004','A005'],'Name':['John Alter','Alice Luxumburg','Tom Sabestine', 'Nina Adgra', 'Amy Johny'],\n",
        "    'Gender': ['M', 'F', 'M', 'F', 'F'],\n",
        "    'City': ['Paris', 'London', 'Berlin', 'Newyork', 'Madrid'],\n",
        "    'Age': [25, 27, 29, 31, 30]})\n",
        "emp_df.to_csv('emp_df.csv', index=False)                   # Save the Employee DataFrame as a CSV file\n",
        "\n",
        "#Create the Project DataFrame\n",
        "proj_df = pd.DataFrame({\n",
        "    'ID': ['A001', 'A002', 'A003', 'A004', 'A005', 'A002', 'A005', 'A003', 'A001', 'A003', 'A001', 'A004', 'A004'],\n",
        "    'Project': ['Project 1', 'Project 2', 'Project 3', 'Project 4', 'Project 5', 'Project 6', 'Project 7', 'Project 8', 'Project 9', 'Project 10', 'Project 11', 'Project 12', 'Project 13'],\n",
        "    'Cost': [1002000, 2000000, 4500000, 5500000, np.nan, 680000, 400000, 350000, np.nan, 300000, 2000000, 1000000, 3000000],\n",
        "    'Status': ['Finished', 'Ongoing', 'Finished', 'Ongoing', 'Finished', 'Failed', 'Finished', 'Failed', 'Ongoing', 'Finished', 'Failed', 'Ongoing', 'Finished']\n",
        "})\n",
        "proj_df.to_csv('project_data.csv', index=False)                        # Save the Project DataFrame as a CSV file\n",
        "\n",
        "#seniority Level Dataframe\n",
        "senior_df=pd.DataFrame({'ID':['A001','A002','A003','A004','A005'],'Designation Level':[2,2,3,2,3]})\n",
        "senior_df.to_csv('senior_df.csv',index=False)                            # Save the Seniority Level DataFrame as a CSV file\n",
        "print(emp_df)\n",
        "print(proj_df)\n",
        "print(senior_df)"
      ]
    },
    {
      "cell_type": "code",
      "source": [
        "# Task 2: Compute the missing values in the 'Cost' column of the 'Project' DataFrame\n",
        "running_avg=0\n",
        "count=0\n",
        "for i, row in proj_df.iterrows():                                 # Iterate through each row in the DataFrame\n",
        "    if not pd.isna(row['Cost']):                                  # Check if the 'Cost' value in the current row is not NaN (not missing)\n",
        "        running_avg=(running_avg*count+row['Cost'])/(count+1)      # Update the running average based on the current 'Cost' value\n",
        "        count+=1                                                  # Increment the count of non-missing values\n",
        "    else:\n",
        "         proj_df.at[i,'Cost']=running_avg                         # If the 'Cost' value is missing, fill it with the current running average\n",
        "\n",
        "print(proj_df)"
      ],
      "metadata": {
        "id": "W-EL29z8lriY",
        "colab": {
          "base_uri": "https://localhost:8080/"
        },
        "outputId": "baa40787-afc4-4968-9416-fad665836fdd"
      },
      "execution_count": 12,
      "outputs": [
        {
          "output_type": "stream",
          "name": "stdout",
          "text": [
            "      ID     Project          Cost    Status\n",
            "0   A001   Project 1  1.002000e+06  Finished\n",
            "1   A002   Project 2  2.000000e+06   Ongoing\n",
            "2   A003   Project 3  4.500000e+06  Finished\n",
            "3   A004   Project 4  5.500000e+06   Ongoing\n",
            "4   A005   Project 5  3.250500e+06  Finished\n",
            "5   A002   Project 6  6.800000e+05    Failed\n",
            "6   A005   Project 7  4.000000e+05  Finished\n",
            "7   A003   Project 8  3.500000e+05    Failed\n",
            "8   A001   Project 9  2.061714e+06   Ongoing\n",
            "9   A003  Project 10  3.000000e+05  Finished\n",
            "10  A001  Project 11  2.000000e+06    Failed\n",
            "11  A004  Project 12  1.000000e+06   Ongoing\n",
            "12  A004  Project 13  3.000000e+06  Finished\n"
          ]
        }
      ]
    },
    {
      "cell_type": "code",
      "source": [
        "# Task 3: Split the 'Name' column in the 'Employee' DataFrame into 'First Name' and 'Last Name'\n",
        "emp_df[['First Name', 'Last Name']] = emp_df['Name'].str.split(' ', expand=True)    # Split the 'Name' column into 'First Name' and 'Last Name' columns\n",
        "emp_df = emp_df.drop('Name', axis=1)                                                # Drop the original 'Name' column\n",
        "print(emp_df)"
      ],
      "metadata": {
        "id": "CH1olpO3XCAY",
        "colab": {
          "base_uri": "https://localhost:8080/"
        },
        "outputId": "bb0665c5-2bdb-475b-eba7-904417a43785"
      },
      "execution_count": null,
      "outputs": [
        {
          "output_type": "stream",
          "name": "stdout",
          "text": [
            "     ID Gender     City  Age First Name  Last Name\n",
            "0  A001      M    Paris   25       John      Alter\n",
            "1  A002      F   London   27      Alice  Luxumburg\n",
            "2  A003      M   Berlin   29        Tom  Sabestine\n",
            "3  A004      F  Newyork   31       Nina      Adgra\n",
            "4  A005      F   Madrid   30        Amy      Johny\n"
          ]
        }
      ]
    },
    {
      "cell_type": "code",
      "source": [
        "# Task 4: Join all three dataframes into a single 'Final' DataFrame\n",
        "final_df = pd.merge(emp_df, senior_df, on='ID', how='inner')                       # Merge the Employee, Seniority Level, and Project DataFrames\n",
        "final_df = pd.merge(final_df, proj_df, on='ID', how='inner')\n",
        "print(final_df)"
      ],
      "metadata": {
        "id": "Tw8Yh2MVXCFw",
        "colab": {
          "base_uri": "https://localhost:8080/"
        },
        "outputId": "25b69b5d-fc76-426c-d938-c827df1860cb"
      },
      "execution_count": null,
      "outputs": [
        {
          "output_type": "stream",
          "name": "stdout",
          "text": [
            "      ID Gender     City  Age First Name  Last Name  Designation Level  \\\n",
            "0   A001      M    Paris   25       John      Alter                  2   \n",
            "1   A001      M    Paris   25       John      Alter                  2   \n",
            "2   A001      M    Paris   25       John      Alter                  2   \n",
            "3   A002      F   London   27      Alice  Luxumburg                  2   \n",
            "4   A002      F   London   27      Alice  Luxumburg                  2   \n",
            "5   A003      M   Berlin   29        Tom  Sabestine                  3   \n",
            "6   A003      M   Berlin   29        Tom  Sabestine                  3   \n",
            "7   A003      M   Berlin   29        Tom  Sabestine                  3   \n",
            "8   A004      F  Newyork   31       Nina      Adgra                  2   \n",
            "9   A004      F  Newyork   31       Nina      Adgra                  2   \n",
            "10  A004      F  Newyork   31       Nina      Adgra                  2   \n",
            "11  A005      F   Madrid   30        Amy      Johny                  3   \n",
            "12  A005      F   Madrid   30        Amy      Johny                  3   \n",
            "\n",
            "       Project          Cost    Status  \n",
            "0    Project 1  1.002000e+06  Finished  \n",
            "1    Project 9  1.884727e+06   Ongoing  \n",
            "2   Project 11  2.000000e+06    Failed  \n",
            "3    Project 2  2.000000e+06   Ongoing  \n",
            "4    Project 6  6.800000e+05    Failed  \n",
            "5    Project 3  4.500000e+06  Finished  \n",
            "6    Project 8  3.500000e+05    Failed  \n",
            "7   Project 10  3.000000e+05  Finished  \n",
            "8    Project 4  5.500000e+06   Ongoing  \n",
            "9   Project 12  1.000000e+06   Ongoing  \n",
            "10  Project 13  3.000000e+06  Finished  \n",
            "11   Project 5  1.884727e+06  Finished  \n",
            "12   Project 7  4.000000e+05  Finished  \n"
          ]
        }
      ]
    },
    {
      "cell_type": "code",
      "source": [
        "# Task 5: Add a new 'Bonus' column in the 'Final' DataFrame for employees who finished projects\n",
        "final_df['Bonus'] = np.where(final_df['Status'] == 'Finished', 0.05 * final_df['Cost'], 0)            # to calculate the bonus as 5% of the project cost for employees who finished projects\n",
        "print(final_df)"
      ],
      "metadata": {
        "id": "yGgmjH4Fk_WX",
        "colab": {
          "base_uri": "https://localhost:8080/"
        },
        "outputId": "c7188565-fe98-4e78-8252-62f7b4ac0f07"
      },
      "execution_count": null,
      "outputs": [
        {
          "output_type": "stream",
          "name": "stdout",
          "text": [
            "      ID Gender     City  Age First Name  Last Name  Designation Level  \\\n",
            "0   A001      M    Paris   25       John      Alter                  2   \n",
            "1   A001      M    Paris   25       John      Alter                  2   \n",
            "2   A001      M    Paris   25       John      Alter                  2   \n",
            "3   A002      F   London   27      Alice  Luxumburg                  2   \n",
            "4   A002      F   London   27      Alice  Luxumburg                  2   \n",
            "5   A003      M   Berlin   29        Tom  Sabestine                  3   \n",
            "6   A003      M   Berlin   29        Tom  Sabestine                  3   \n",
            "7   A003      M   Berlin   29        Tom  Sabestine                  3   \n",
            "8   A004      F  Newyork   31       Nina      Adgra                  2   \n",
            "9   A004      F  Newyork   31       Nina      Adgra                  2   \n",
            "10  A004      F  Newyork   31       Nina      Adgra                  2   \n",
            "11  A005      F   Madrid   30        Amy      Johny                  3   \n",
            "12  A005      F   Madrid   30        Amy      Johny                  3   \n",
            "\n",
            "       Project          Cost    Status          Bonus  \n",
            "0    Project 1  1.002000e+06  Finished   50100.000000  \n",
            "1    Project 9  1.884727e+06   Ongoing       0.000000  \n",
            "2   Project 11  2.000000e+06    Failed       0.000000  \n",
            "3    Project 2  2.000000e+06   Ongoing       0.000000  \n",
            "4    Project 6  6.800000e+05    Failed       0.000000  \n",
            "5    Project 3  4.500000e+06  Finished  225000.000000  \n",
            "6    Project 8  3.500000e+05    Failed       0.000000  \n",
            "7   Project 10  3.000000e+05  Finished   15000.000000  \n",
            "8    Project 4  5.500000e+06   Ongoing       0.000000  \n",
            "9   Project 12  1.000000e+06   Ongoing       0.000000  \n",
            "10  Project 13  3.000000e+06  Finished  150000.000000  \n",
            "11   Project 5  1.884727e+06  Finished   94236.363636  \n",
            "12   Project 7  4.000000e+05  Finished   20000.000000  \n"
          ]
        }
      ]
    },
    {
      "cell_type": "code",
      "source": [
        "# Task 6: Demote the designation level by 1 for failed projects, and delete employees with designation level above 4\n",
        "final_df.loc[final_df['Status'] == 'Failed', 'Designation Level'] -= 1            # Demote the designation level by 1 for failed projects\n",
        "final_df = final_df[final_df['Designation Level'] <= 4]                            # Delete employees with designation level above 4\n",
        "print(final_df)"
      ],
      "metadata": {
        "id": "8Tku3u5hlEvP",
        "colab": {
          "base_uri": "https://localhost:8080/"
        },
        "outputId": "63aa7699-fe63-4358-8f7d-a962fb7b93b2"
      },
      "execution_count": null,
      "outputs": [
        {
          "output_type": "stream",
          "name": "stdout",
          "text": [
            "      ID Gender     City  Age First Name  Last Name  Designation Level  \\\n",
            "0   A001      M    Paris   25       John      Alter                  2   \n",
            "1   A001      M    Paris   25       John      Alter                  2   \n",
            "2   A001      M    Paris   25       John      Alter                  1   \n",
            "3   A002      F   London   27      Alice  Luxumburg                  2   \n",
            "4   A002      F   London   27      Alice  Luxumburg                  1   \n",
            "5   A003      M   Berlin   29        Tom  Sabestine                  3   \n",
            "6   A003      M   Berlin   29        Tom  Sabestine                  2   \n",
            "7   A003      M   Berlin   29        Tom  Sabestine                  3   \n",
            "8   A004      F  Newyork   31       Nina      Adgra                  2   \n",
            "9   A004      F  Newyork   31       Nina      Adgra                  2   \n",
            "10  A004      F  Newyork   31       Nina      Adgra                  2   \n",
            "11  A005      F   Madrid   30        Amy      Johny                  3   \n",
            "12  A005      F   Madrid   30        Amy      Johny                  3   \n",
            "\n",
            "       Project          Cost    Status          Bonus  \n",
            "0    Project 1  1.002000e+06  Finished   50100.000000  \n",
            "1    Project 9  1.884727e+06   Ongoing       0.000000  \n",
            "2   Project 11  2.000000e+06    Failed       0.000000  \n",
            "3    Project 2  2.000000e+06   Ongoing       0.000000  \n",
            "4    Project 6  6.800000e+05    Failed       0.000000  \n",
            "5    Project 3  4.500000e+06  Finished  225000.000000  \n",
            "6    Project 8  3.500000e+05    Failed       0.000000  \n",
            "7   Project 10  3.000000e+05  Finished   15000.000000  \n",
            "8    Project 4  5.500000e+06   Ongoing       0.000000  \n",
            "9   Project 12  1.000000e+06   Ongoing       0.000000  \n",
            "10  Project 13  3.000000e+06  Finished  150000.000000  \n",
            "11   Project 5  1.884727e+06  Finished   94236.363636  \n",
            "12   Project 7  4.000000e+05  Finished   20000.000000  \n"
          ]
        }
      ]
    },
    {
      "cell_type": "code",
      "source": [
        "# Task 7: Add 'Mr.' and 'Mrs.' to the 'First Name' column and drop the 'Gender' column\n",
        "final_df['First Name'] = np.where(final_df['Gender'] == 'M', 'Mr. ' + final_df['First Name'], 'Mrs. ' + final_df['First Name'])    # Add 'Mr.' and 'Mrs.' to the 'First Name' column based on gender\n",
        "final_df = final_df.drop('Gender', axis=1)                                           # Drop the 'Gender' column\n",
        "print(final_df)"
      ],
      "metadata": {
        "id": "gPVYHTsolFEq",
        "colab": {
          "base_uri": "https://localhost:8080/"
        },
        "outputId": "05acefed-ce65-4684-8022-7e82c0c21b33"
      },
      "execution_count": null,
      "outputs": [
        {
          "output_type": "stream",
          "name": "stdout",
          "text": [
            "      ID     City  Age  First Name  Last Name  Designation Level     Project  \\\n",
            "0   A001    Paris   25    Mr. John      Alter                  2   Project 1   \n",
            "1   A001    Paris   25    Mr. John      Alter                  2   Project 9   \n",
            "2   A001    Paris   25    Mr. John      Alter                  1  Project 11   \n",
            "3   A002   London   27  Mrs. Alice  Luxumburg                  2   Project 2   \n",
            "4   A002   London   27  Mrs. Alice  Luxumburg                  1   Project 6   \n",
            "5   A003   Berlin   29     Mr. Tom  Sabestine                  3   Project 3   \n",
            "6   A003   Berlin   29     Mr. Tom  Sabestine                  2   Project 8   \n",
            "7   A003   Berlin   29     Mr. Tom  Sabestine                  3  Project 10   \n",
            "8   A004  Newyork   31   Mrs. Nina      Adgra                  2   Project 4   \n",
            "9   A004  Newyork   31   Mrs. Nina      Adgra                  2  Project 12   \n",
            "10  A004  Newyork   31   Mrs. Nina      Adgra                  2  Project 13   \n",
            "11  A005   Madrid   30    Mrs. Amy      Johny                  3   Project 5   \n",
            "12  A005   Madrid   30    Mrs. Amy      Johny                  3   Project 7   \n",
            "\n",
            "            Cost    Status          Bonus  \n",
            "0   1.002000e+06  Finished   50100.000000  \n",
            "1   1.884727e+06   Ongoing       0.000000  \n",
            "2   2.000000e+06    Failed       0.000000  \n",
            "3   2.000000e+06   Ongoing       0.000000  \n",
            "4   6.800000e+05    Failed       0.000000  \n",
            "5   4.500000e+06  Finished  225000.000000  \n",
            "6   3.500000e+05    Failed       0.000000  \n",
            "7   3.000000e+05  Finished   15000.000000  \n",
            "8   5.500000e+06   Ongoing       0.000000  \n",
            "9   1.000000e+06   Ongoing       0.000000  \n",
            "10  3.000000e+06  Finished  150000.000000  \n",
            "11  1.884727e+06  Finished   94236.363636  \n",
            "12  4.000000e+05  Finished   20000.000000  \n"
          ]
        }
      ]
    },
    {
      "cell_type": "code",
      "source": [
        "# Task 8: Promote designation level by 1 for employees whose age is more than 29 years\n",
        "final_df.loc[final_df['Age'] > 29, 'Designation Level'] += 1                     # Promote the designation level by 1 for employees whose age is more than 29 years\n",
        "print(final_df)"
      ],
      "metadata": {
        "id": "YhY6w9PTlFQN",
        "colab": {
          "base_uri": "https://localhost:8080/"
        },
        "outputId": "310c57ef-f8fd-4b32-9d2c-e39ea8b1c10b"
      },
      "execution_count": null,
      "outputs": [
        {
          "output_type": "stream",
          "name": "stdout",
          "text": [
            "      ID     City  Age  First Name  Last Name  Designation Level     Project  \\\n",
            "0   A001    Paris   25    Mr. John      Alter                  2   Project 1   \n",
            "1   A001    Paris   25    Mr. John      Alter                  2   Project 9   \n",
            "2   A001    Paris   25    Mr. John      Alter                  1  Project 11   \n",
            "3   A002   London   27  Mrs. Alice  Luxumburg                  2   Project 2   \n",
            "4   A002   London   27  Mrs. Alice  Luxumburg                  1   Project 6   \n",
            "5   A003   Berlin   29     Mr. Tom  Sabestine                  3   Project 3   \n",
            "6   A003   Berlin   29     Mr. Tom  Sabestine                  2   Project 8   \n",
            "7   A003   Berlin   29     Mr. Tom  Sabestine                  3  Project 10   \n",
            "8   A004  Newyork   31   Mrs. Nina      Adgra                  3   Project 4   \n",
            "9   A004  Newyork   31   Mrs. Nina      Adgra                  3  Project 12   \n",
            "10  A004  Newyork   31   Mrs. Nina      Adgra                  3  Project 13   \n",
            "11  A005   Madrid   30    Mrs. Amy      Johny                  4   Project 5   \n",
            "12  A005   Madrid   30    Mrs. Amy      Johny                  4   Project 7   \n",
            "\n",
            "            Cost    Status          Bonus  \n",
            "0   1.002000e+06  Finished   50100.000000  \n",
            "1   1.884727e+06   Ongoing       0.000000  \n",
            "2   2.000000e+06    Failed       0.000000  \n",
            "3   2.000000e+06   Ongoing       0.000000  \n",
            "4   6.800000e+05    Failed       0.000000  \n",
            "5   4.500000e+06  Finished  225000.000000  \n",
            "6   3.500000e+05    Failed       0.000000  \n",
            "7   3.000000e+05  Finished   15000.000000  \n",
            "8   5.500000e+06   Ongoing       0.000000  \n",
            "9   1.000000e+06   Ongoing       0.000000  \n",
            "10  3.000000e+06  Finished  150000.000000  \n",
            "11  1.884727e+06  Finished   94236.363636  \n",
            "12  4.000000e+05  Finished   20000.000000  \n"
          ]
        }
      ]
    },
    {
      "cell_type": "code",
      "source": [
        "# Task 9: Create a new DataFrame 'TotalProjCost' with ID, First Name, and Total Cost\n",
        "total_proj_cost_df = final_df.groupby(['ID', 'First Name'])['Cost'].sum().reset_index()       # Group the data by ID and First Name, and calculate the total cost for each employee\n",
        "total_proj_cost_df.rename(columns={'Cost': 'Total Cost'}, inplace=True)                       # Rename the 'Cost' column to 'Total Cost'\n",
        "print(total_proj_cost_df)"
      ],
      "metadata": {
        "id": "MCuHf7TGlXQq",
        "colab": {
          "base_uri": "https://localhost:8080/"
        },
        "outputId": "a766eb57-e650-4224-9a0d-e254cecd6abf"
      },
      "execution_count": null,
      "outputs": [
        {
          "output_type": "stream",
          "name": "stdout",
          "text": [
            "     ID  First Name    Total Cost\n",
            "0  A001    Mr. John  4.886727e+06\n",
            "1  A002  Mrs. Alice  2.680000e+06\n",
            "2  A003     Mr. Tom  5.150000e+06\n",
            "3  A004   Mrs. Nina  9.500000e+06\n",
            "4  A005    Mrs. Amy  2.284727e+06\n"
          ]
        }
      ]
    },
    {
      "cell_type": "code",
      "source": [
        "# Task 10: Print all employee details whose city name contains the letter 'o'\n",
        "print(final_df[final_df['City'].str.contains('o')])                               # Filter the 'Final' DataFrame to include only employees whose city name contains the letter 'o'\n"
      ],
      "metadata": {
        "id": "MuKHXNWBlFTv",
        "colab": {
          "base_uri": "https://localhost:8080/"
        },
        "outputId": "7666f0fd-4a8c-41f2-8da4-7b0809cdb16e"
      },
      "execution_count": null,
      "outputs": [
        {
          "output_type": "stream",
          "name": "stdout",
          "text": [
            "      ID     City  Age  First Name  Last Name  Designation Level     Project  \\\n",
            "3   A002   London   27  Mrs. Alice  Luxumburg                  2   Project 2   \n",
            "4   A002   London   27  Mrs. Alice  Luxumburg                  1   Project 6   \n",
            "8   A004  Newyork   31   Mrs. Nina      Adgra                  3   Project 4   \n",
            "9   A004  Newyork   31   Mrs. Nina      Adgra                  3  Project 12   \n",
            "10  A004  Newyork   31   Mrs. Nina      Adgra                  3  Project 13   \n",
            "\n",
            "         Cost    Status     Bonus  \n",
            "3   2000000.0   Ongoing       0.0  \n",
            "4    680000.0    Failed       0.0  \n",
            "8   5500000.0   Ongoing       0.0  \n",
            "9   1000000.0   Ongoing       0.0  \n",
            "10  3000000.0  Finished  150000.0  \n"
          ]
        }
      ]
    },
    {
      "cell_type": "code",
      "source": [],
      "metadata": {
        "id": "RJfPwk08y9oj"
      },
      "execution_count": null,
      "outputs": []
    }
  ]
}